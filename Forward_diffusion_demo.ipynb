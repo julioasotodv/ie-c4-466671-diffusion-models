{
 "cells": [
  {
   "cell_type": "code",
   "execution_count": null,
   "id": "b9379fb7-bbb0-4049-b3c0-df111009d522",
   "metadata": {},
   "outputs": [],
   "source": [
    "import numpy as np\n",
    "from scipy import stats\n",
    "import pandas as pd\n",
    "from PIL import Image\n",
    "import matplotlib\n",
    "from matplotlib import pyplot as plt\n",
    "import panel as pn\n",
    "from io import BytesIO\n",
    "import urllib.request"
   ]
  },
  {
   "cell_type": "code",
   "execution_count": null,
   "id": "d2d8e7ae-6720-4082-b784-6488263bc879",
   "metadata": {},
   "outputs": [],
   "source": [
    "%config InlineBackend.figure_format='retina'"
   ]
  },
  {
   "cell_type": "code",
   "execution_count": null,
   "id": "b5bcf133-3456-4037-b335-e512cb9f986d",
   "metadata": {},
   "outputs": [],
   "source": [
    "pn.extension()"
   ]
  },
  {
   "cell_type": "code",
   "execution_count": null,
   "id": "84e10a80-6c32-4b57-b063-b0c8716c751d",
   "metadata": {},
   "outputs": [],
   "source": [
    "def add_noise(img_tensor_minus_plus_one, beta):\n",
    "    noise = np.random.normal(loc=np.zeros_like(img_tensor_minus_plus_one), \n",
    "                             scale=np.ones_like(img_tensor_minus_plus_one)*np.sqrt(beta))\n",
    "    img_tensor_w_noise = (np.sqrt(1-beta) * img_tensor_minus_plus_one + noise)\n",
    "    return noise.astype(np.float16), img_tensor_w_noise.astype(np.float16)"
   ]
  },
  {
   "cell_type": "code",
   "execution_count": null,
   "id": "ca7a5fe8",
   "metadata": {},
   "outputs": [],
   "source": [
    "file_input = pn.widgets.FileInput(accept=\"image/*\", \n",
    "                                  multiple=False,\n",
    "                                  margin=(21, 10, 5, 10))"
   ]
  },
  {
   "cell_type": "code",
   "execution_count": null,
   "id": "918b17d5-ecff-4925-adec-de4cdf6a6c55",
   "metadata": {},
   "outputs": [],
   "source": [
    "beta_input = pn.widgets.FloatInput(name=\"\\u03B2:\", start=0, end=1, step=0.1, value=0.3)"
   ]
  },
  {
   "cell_type": "code",
   "execution_count": null,
   "id": "dd6778a2-6bcc-4b16-9a35-ffdfe3d199b5",
   "metadata": {},
   "outputs": [],
   "source": [
    "num_corruption_steps=16\n",
    "\n",
    "corruption_results_list = []"
   ]
  },
  {
   "cell_type": "code",
   "execution_count": null,
   "id": "c12ca944",
   "metadata": {},
   "outputs": [],
   "source": [
    "plot = pn.pane.Matplotlib(object=None, tight=True, width=700)"
   ]
  },
  {
   "cell_type": "code",
   "execution_count": null,
   "id": "8b68699f-644b-466c-8e2a-970c4d072643",
   "metadata": {},
   "outputs": [],
   "source": [
    "def plot_process(event):\n",
    "    \n",
    "    player_step = player.value\n",
    "    \n",
    "    fig = plt.Figure(figsize=(12,8))\n",
    "\n",
    "    start_image, noise, noisier_image = corruption_results_list[player_step]\n",
    "\n",
    "    ax1 = fig.add_axes([0., 0.1, 0.3, 0.3])\n",
    "    ax1.imshow(((start_image + 1) / 2).astype(np.float32).clip(min=0, max=1), \n",
    "               interpolation='nearest', \n",
    "               aspect=\"auto\")\n",
    "    \n",
    "    ax2 = fig.add_axes([0.5, 0.1, 0.3, 0.3])\n",
    "    ax2.set_xlim(ax1.get_xlim())\n",
    "    ax2.set_ylim(ax1.get_ylim())\n",
    "    \n",
    "    ax3 = fig.add_axes([0.25, 0.5, 0.3, 0.3])\n",
    "    ax3.set_xlim(ax1.get_xlim())\n",
    "    ax3.set_ylim(ax1.get_ylim())\n",
    "    \n",
    "    if player_step not in [0,1,4]:\n",
    "        ax2.imshow(((noisier_image + 1) / 2).astype(np.float32).clip(min=0, max=1), \n",
    "                   interpolation='nearest', \n",
    "                   aspect=\"auto\")\n",
    "    else:\n",
    "        for pos in [\"left\", \"right\", \"top\", \"bottom\"]:\n",
    "            ax2.spines[pos].set_edgecolor(\"#ffffff00\")\n",
    "        ax2.tick_params(axis='both', colors='#ffffff00')\n",
    "        \n",
    "    if player_step not in [0,4]:\n",
    "        ax3.imshow(((noise + 1) / 2).astype(np.float32).clip(min=0, max=1), \n",
    "                   interpolation='nearest', \n",
    "                   aspect=\"auto\")\n",
    "    else:\n",
    "        for pos in [\"left\", \"right\", \"top\", \"bottom\"]:\n",
    "            ax3.spines[pos].set_edgecolor(\"#ffffff00\")\n",
    "        ax3.tick_params(axis='both', colors='#ffffff00')\n",
    "        \n",
    "    if player_step in [0,1,2,4]:\n",
    "        arrow_1_color = \"#ffffff00\"\n",
    "    else:\n",
    "        arrow_1_color = \"black\"\n",
    "    arrow_1 = ax1.annotate('', \n",
    "                           xy=(0.72, 0.09),  \n",
    "                           xycoords='figure fraction',\n",
    "                           xytext=(0.18, 0.09),\n",
    "                           arrowprops=dict(arrowstyle=\"<|-,head_width=0.8, head_length=0.8\",\n",
    "                                           connectionstyle=\"bar,fraction=0.1\",\n",
    "                                           color=arrow_1_color,\n",
    "                                           linewidth=2)\n",
    "                          )\n",
    "    \n",
    "    if player_step in [0,1,4]:\n",
    "        circle_facecolor = \"#ffffff00\"\n",
    "        circle_edgecolor = \"#ffffff00\"\n",
    "    else:\n",
    "        circle_facecolor = \"#999999\"\n",
    "        circle_edgecolor = \"black\"\n",
    "    circle = matplotlib.patches.Ellipse(xy=(0.4,0.25), \n",
    "                                        width=0.05, \n",
    "                                        height=0.075, \n",
    "                                        facecolor=circle_facecolor,\n",
    "                                        edgecolor=circle_edgecolor)\n",
    "    fig.add_artist(circle)\n",
    "    \n",
    "    if player_step in [0,1,4]:\n",
    "        addition_symbol_color = \"#ffffff00\"\n",
    "    else:\n",
    "        addition_symbol_color = \"black\"\n",
    "    addition_symbol = matplotlib.text.Text(x=0.3805, \n",
    "                                           y=0.228, \n",
    "                                           text=\"+\", \n",
    "                                           fontsize=40,\n",
    "                                           color=addition_symbol_color)\n",
    "    fig.add_artist(addition_symbol)\n",
    "    \n",
    "    if player_step in [0,1,4]:\n",
    "        arrow_2_color = \"#ffffff00\"\n",
    "    else:\n",
    "        arrow_2_color = \"black\"\n",
    "    arrow_2 = ax1.annotate('', \n",
    "                 xy=(0.415, 0.25), \n",
    "                 xytext=(0.34,0.25), \n",
    "                 xycoords='figure fraction',\n",
    "                 arrowprops=dict(arrowstyle=\"-|>,head_width=0.8, head_length=0.8\",\n",
    "                                 linewidth=2,\n",
    "                                 color=arrow_2_color\n",
    "                                ))\n",
    "    \n",
    "    if player_step in [0,1,4]:\n",
    "        arrow_3_color = \"#ffffff00\"\n",
    "    else:\n",
    "        arrow_3_color = \"black\"\n",
    "    arrow_3 = ax1.annotate('', \n",
    "                 xy=(0.54, 0.25), \n",
    "                 xytext=(0.468,0.25), \n",
    "                 xycoords='figure fraction',\n",
    "                 arrowprops=dict(arrowstyle=\"-|>,head_width=0.8, head_length=0.8\",\n",
    "                                 linewidth=2,\n",
    "                                 color=arrow_3_color))\n",
    "    \n",
    "    if player_step in [0,1,4]:\n",
    "        arrow_4_color = \"#ffffff00\"\n",
    "    else:\n",
    "        arrow_4_color = \"black\"\n",
    "    arrow_4 = ax1.annotate('', \n",
    "                 xy=(0.438, 0.29), \n",
    "                 xytext=(0.438,0.5), \n",
    "                 xycoords='figure fraction',\n",
    "                 arrowprops=dict(arrowstyle=\"-|>,head_width=0.8, head_length=0.8\",\n",
    "                                 linewidth=2,\n",
    "                                 color=arrow_4_color))\n",
    "    \n",
    "    if player_step in [0,1,2,3]:\n",
    "        text_t = \"1\"\n",
    "    elif player_step in [4,5]:\n",
    "        text_t = \"2\"\n",
    "    else:\n",
    "        text_t = str(player_step-3)\n",
    "    timestep_box = ax1.annotate(\"$t=%s$\" % text_t, \n",
    "                                xy=(0.5,0.5), \n",
    "                                xycoords='figure fraction',\n",
    "                                xytext=(0.075, 0.75), \n",
    "                                textcoords='figure fraction',\n",
    "                                size=20, \n",
    "                                va=\"center\", \n",
    "                                ha=\"center\",\n",
    "                                bbox=dict(boxstyle=\"square\", fc=\"w\"))\n",
    "    \n",
    "    if player_step in [1,2,3,5,11]:\n",
    "        if player_step == 1:\n",
    "            text = \"Generate noise as\\n\"r\"$\\mathcal{N}(\\mathbf{x}_t;\\ 0,\\ \\beta_t\\,\\mathbf{I})$\"\n",
    "        elif player_step == 2:\n",
    "            text = \"Scale image by\\n\"r\"$\\sqrt{1 - \\beta_t}$\"\"\\nand add the noise\"\n",
    "        elif player_step==3:\n",
    "            text = r\"Output from step $t$\"\"\\nbecomes the input\\n\"r\"for step $t+1$\"\n",
    "        elif player_step == 5:\n",
    "            text = \"Repeat process\\n(generate noise, \\nscale and add)\"\n",
    "        elif player_step == 11:\n",
    "            text = \"Image progressively\\nbecomes noisier,\\nwith less info\"\n",
    "        description_box = ax1.annotate(text, \n",
    "                                       xy=(0.5,0.5), \n",
    "                                       xycoords='figure fraction',\n",
    "                                       xytext=(0.71, 0.75), \n",
    "                                       textcoords='figure fraction',\n",
    "                                       size=15, \n",
    "                                       va=\"center\", \n",
    "                                       ha=\"center\",\n",
    "                                       bbox=dict(boxstyle=\"square\", fc=\"w\"))\n",
    "\n",
    "    plt.close(fig)\n",
    "    plot.object = fig"
   ]
  },
  {
   "cell_type": "code",
   "execution_count": null,
   "id": "61e2b40a-7815-4a7e-86a1-68358e558fdd",
   "metadata": {},
   "outputs": [],
   "source": [
    "# Make that when beta_input changes, the player goes back to 1;\n",
    "# as well as re-computing corruption_results_list:\n",
    "player = pn.widgets.Player(name='Discrete Player', \n",
    "                           start=0, \n",
    "                           end=19, \n",
    "                           loop_policy='once',\n",
    "                           interval=2000,\n",
    "                           show_loop_controls=False,\n",
    "                           sizing_mode=\"stretch_width\")"
   ]
  },
  {
   "cell_type": "code",
   "execution_count": null,
   "id": "c22ac215",
   "metadata": {},
   "outputs": [],
   "source": [
    "player.param.watch(plot_process, \"value\", onlychanged=False)"
   ]
  },
  {
   "cell_type": "code",
   "execution_count": null,
   "id": "653261db",
   "metadata": {},
   "outputs": [],
   "source": [
    "def reset_demo(event):\n",
    "    \n",
    "    corruption_results_list.clear()\n",
    "    \n",
    "    with BytesIO(file_input.value) as buffer:\n",
    "        img = Image.open(buffer)\n",
    "        img_tensor = np.array(img) / 255\n",
    "\n",
    "    # If we have alpha channel, remove it:\n",
    "    if img_tensor.shape[-1] == 4:\n",
    "        img_tensor = img_tensor[:,:,:3]\n",
    "\n",
    "    # Scale to [-1,1]:\n",
    "    img_tensor_minus_plus_one = img_tensor * 2 - 1\n",
    "    img_tensor_minus_plus_one = img_tensor_minus_plus_one.astype(np.float16)\n",
    "    \n",
    "    start_image = img_tensor_minus_plus_one\n",
    "    for corruption_step in range(num_corruption_steps):\n",
    "        noise, noisier_image = add_noise(start_image, beta_input.value)\n",
    "        corruption_results_list.append((start_image, noise, noisier_image))\n",
    "        start_image = noisier_image\n",
    "    first_step = corruption_results_list[0]\n",
    "    second_step = corruption_results_list[1]\n",
    "    corruption_results_list.insert(1, first_step)\n",
    "    corruption_results_list.insert(1, first_step)\n",
    "    corruption_results_list.insert(1, first_step)\n",
    "    corruption_results_list.insert(4, second_step)\n",
    "    player.value = 0"
   ]
  },
  {
   "cell_type": "code",
   "execution_count": null,
   "id": "e9798ff4",
   "metadata": {},
   "outputs": [],
   "source": [
    "beta_input.param.watch(reset_demo, 'value')\n",
    "file_input.param.watch(reset_demo, 'value')"
   ]
  },
  {
   "cell_type": "code",
   "execution_count": null,
   "id": "3dae4bbf",
   "metadata": {},
   "outputs": [],
   "source": [
    "file_input.value = urllib.request.urlopen(\"https://i.postimg.cc/nhVpcdKF/demo-dog.jpg\").read()"
   ]
  },
  {
   "cell_type": "code",
   "execution_count": null,
   "id": "bdfca25b-561a-4edd-a2c1-8971067d3024",
   "metadata": {},
   "outputs": [],
   "source": [
    "template = pn.template.VanillaTemplate(title='Forward diffusion process',\n",
    "                                       busy_indicator=None,\n",
    "                                       header_background=\"#434343\")\n",
    "\n",
    "template.config.raw_css.append(\n",
    "\"\"\"#header{\n",
    "           flex-wrap: wrap;\n",
    "           justify-content: center;\n",
    "          }\n",
    "\"\"\")"
   ]
  },
  {
   "cell_type": "code",
   "execution_count": null,
   "id": "945db6f1-b16c-4a68-9fd7-85b17e946898",
   "metadata": {},
   "outputs": [],
   "source": [
    "app = pn.Row(pn.Spacer(height=10, sizing_mode=\"stretch_width\"),\n",
    "       pn.Column(pn.Row(file_input, beta_input), \n",
    "                 plot, \n",
    "                 player,\n",
    "                 pn.pane.Markdown(\"Demo by Julio Antonio Soto for IE University. Made with [Panel](https://panel.holoviz.org)\")),\n",
    "       pn.Spacer(height=10, sizing_mode=\"stretch_width\"),\n",
    "       sizing_mode=\"stretch_width\"\n",
    "      )"
   ]
  },
  {
   "cell_type": "code",
   "execution_count": null,
   "id": "c9672d18-d55d-4735-bda6-81ab0a223790",
   "metadata": {},
   "outputs": [],
   "source": [
    "template.main.append(app)"
   ]
  },
  {
   "cell_type": "code",
   "execution_count": null,
   "id": "da3dff6b-e313-4287-8268-ca7256303116",
   "metadata": {},
   "outputs": [],
   "source": [
    "template.servable()"
   ]
  },
  {
   "cell_type": "code",
   "execution_count": null,
   "id": "2b867a40-c5b9-4679-bcee-307d72047021",
   "metadata": {},
   "outputs": [],
   "source": []
  }
 ],
 "metadata": {
  "kernelspec": {
   "display_name": "Python 3 (ipykernel)",
   "language": "python",
   "name": "python3"
  },
  "language_info": {
   "codemirror_mode": {
    "name": "ipython",
    "version": 3
   },
   "file_extension": ".py",
   "mimetype": "text/x-python",
   "name": "python",
   "nbconvert_exporter": "python",
   "pygments_lexer": "ipython3",
   "version": "3.11.7"
  }
 },
 "nbformat": 4,
 "nbformat_minor": 5
}
